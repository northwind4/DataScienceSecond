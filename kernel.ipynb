{
  "cells": [
    {
      "metadata": {
        "_uuid": "8f2839f25d086af736a60e9eeb907d3b93b6e0e5",
        "_cell_guid": "b1076dfc-b9ad-4769-8c92-a6c4dae69d19",
        "trusted": true
      },
      "cell_type": "code",
      "source": "# This Python 3 environment comes with many helpful analytics libraries installed\n# It is defined by the kaggle/python docker image: https://github.com/kaggle/docker-python\n# For example, here's several helpful packages to load in \n\nimport numpy as np # linear algebra\nimport pandas as pd # data processing, CSV file I/O (e.g. pd.read_csv)\nimport matplotlib.pyplot as plt\nimport seaborn as sns\n\n# Input data files are available in the \"../input/\" directory.\n# For example, running this (by clicking run or pressing Shift+Enter) will list the files in the input directory\n\nimport os\nprint(os.listdir(\"../input\"))\n\n# Any results you write to the current directory are saved as output.",
      "execution_count": null,
      "outputs": []
    },
    {
      "metadata": {
        "_cell_guid": "79c7e3d0-c299-4dcb-8224-4455121ee9b0",
        "_uuid": "d629ff2d2480ee46fbb7e2d37f6b5fab8052498a",
        "trusted": true
      },
      "cell_type": "code",
      "source": "data = pd.read_csv('../input/2016.csv')\ndata.info()",
      "execution_count": null,
      "outputs": []
    },
    {
      "metadata": {
        "trusted": true,
        "_uuid": "bf0d062cc79643d5df28a1cd63bbd9571bb732af"
      },
      "cell_type": "code",
      "source": "data.head(15)\n#data.columns",
      "execution_count": null,
      "outputs": []
    },
    {
      "metadata": {
        "trusted": true,
        "_uuid": "6877a73104fc4a13afeac886cd8cf6d90e4356d5"
      },
      "cell_type": "code",
      "source": "data_cols = data.columns\ndata_cols = data_cols.str.replace(' ','_')\ndata_cols",
      "execution_count": null,
      "outputs": []
    },
    {
      "metadata": {
        "trusted": true,
        "_uuid": "58a6a1a52b083c5ca6150f1e68bf49d88a2d3ba3"
      },
      "cell_type": "code",
      "source": "data.columns = data_cols\ndata.columns",
      "execution_count": null,
      "outputs": []
    },
    {
      "metadata": {
        "_uuid": "0b4ffe21c8389152b136914856d2a456940b0fde"
      },
      "cell_type": "markdown",
      "source": "**User defined function**"
    },
    {
      "metadata": {
        "trusted": true,
        "_uuid": "5738a9efcb603d4d45f28ee3d3eb7713c9b45d69"
      },
      "cell_type": "code",
      "source": "def calcCorr(a):\n    return a.corr()",
      "execution_count": null,
      "outputs": []
    },
    {
      "metadata": {
        "_uuid": "706d7a5f99fd60b5fc6d20c6cb74c527adda9b28"
      },
      "cell_type": "markdown",
      "source": "**An example of Nested Function**"
    },
    {
      "metadata": {
        "trusted": true,
        "_uuid": "c5cf86f3ded9bcef934ea67cb6229877a1628bee"
      },
      "cell_type": "code",
      "source": "def plotHeatmap(a):\n    f,ax = plt.subplots(figsize = (15,15))\n    sns.heatmap(calcCorr(a), annot = True, linewidth=.6, fmt='.1f', ax=ax)\n    plt.show()",
      "execution_count": null,
      "outputs": []
    },
    {
      "metadata": {
        "trusted": true,
        "_uuid": "53fc69960f93930d3d7628117e7a68d4e5f1b4b2"
      },
      "cell_type": "code",
      "source": "calcCorr(data)\nplotHeatmap(data)",
      "execution_count": null,
      "outputs": []
    },
    {
      "metadata": {
        "_uuid": "abf5eff87c1e0e80d4f62334063d5fafb1b3ba8e"
      },
      "cell_type": "markdown",
      "source": "**Local and Global Scope**"
    },
    {
      "metadata": {
        "trusted": true,
        "_uuid": "cdcdda0905b065bd0e64e8a8f99af56487e66af7"
      },
      "cell_type": "code",
      "source": "x = 2\ndef f():\n    x = 3\n    return x\nprint(x)      # x = 2 global scope\nprint(f())    # x = 3 local scope",
      "execution_count": null,
      "outputs": []
    },
    {
      "metadata": {
        "_uuid": "f9661ebb4da191bb3a935d190aa8b2bd613f4632"
      },
      "cell_type": "markdown",
      "source": "**Built-in Scope**"
    },
    {
      "metadata": {
        "trusted": true,
        "scrolled": false,
        "_uuid": "088cc13ce236804b569101f18a220737b6e749f8"
      },
      "cell_type": "code",
      "source": "# How can we learn what is built in scope\nimport builtins\ndir(builtins)",
      "execution_count": null,
      "outputs": []
    },
    {
      "metadata": {
        "_uuid": "9816f1d8a5159f1580f1d16c122e92f5ad2d569e"
      },
      "cell_type": "markdown",
      "source": "**Lambda Function**"
    },
    {
      "metadata": {
        "trusted": true,
        "_uuid": "cc2a01c11b01b154abd8627f86640fe7b8d0eb3c"
      },
      "cell_type": "code",
      "source": "pow5= lambda x: x**5     # where x is name of argument\nprint(pow5(4))\ntot = lambda x,y,z: x+y+z   # where x,y,z are names of arguments\nprint(tot(12,54,66))",
      "execution_count": null,
      "outputs": []
    },
    {
      "metadata": {
        "_uuid": "a97b4dff8cec6479ecfed7fd7903a741396433a7"
      },
      "cell_type": "markdown",
      "source": "**Iretation Process**"
    },
    {
      "metadata": {
        "trusted": true,
        "_uuid": "c07c7104a28d44f72a3c1ce521a43abcadd949bb"
      },
      "cell_type": "code",
      "source": "name = 'Atilla'\nit = iter(name)\nprint(it)\nprint(next(it))\nprint(*it)",
      "execution_count": null,
      "outputs": []
    },
    {
      "metadata": {
        "_uuid": "750da49a5ec03832cf7774daa9a35ab08446fce5"
      },
      "cell_type": "markdown",
      "source": "***Zip and Unzip***"
    },
    {
      "metadata": {
        "trusted": true,
        "_uuid": "970cf76b6f0b578249d58b195ff4ef8799fcb814"
      },
      "cell_type": "code",
      "source": "zippedCols = zip(data.Family, data.Happiness_Score)\nprint(zippedCols)\nzippedCols_list = list(zippedCols)\nprint(zippedCols_list)",
      "execution_count": null,
      "outputs": []
    },
    {
      "metadata": {
        "trusted": true,
        "_uuid": "885a5252c22b3044d495e735376358fc25e429b1"
      },
      "cell_type": "code",
      "source": "un_zip = zip(*zippedCols_list)\nun_list1,un_list2 = list(un_zip) # unzip returns tuple\nprint(un_list1)\nprint(un_list2)\nprint(type(un_list2))",
      "execution_count": null,
      "outputs": []
    },
    {
      "metadata": {
        "_uuid": "ca568496975503f6facd8b37b8375039f3b920ef"
      },
      "cell_type": "markdown",
      "source": "**Flexible arguments *args**"
    },
    {
      "metadata": {
        "trusted": true,
        "scrolled": true,
        "_uuid": "8b4797c1c0a80ab3d9573cb5f1ebe0fb6083afc7"
      },
      "cell_type": "code",
      "source": "def f(*args):\n    for i in args:\n        print(i)\nf(1)\nprint(\"\")\nf(1,2,3,4)",
      "execution_count": null,
      "outputs": []
    },
    {
      "metadata": {
        "_uuid": "77decf550a248d68d02f64bc0c1cd5fa4c267d06"
      },
      "cell_type": "markdown",
      "source": "**Flexible arguments with dictionary data type(how to use kwargs)**"
    },
    {
      "metadata": {
        "trusted": true,
        "_uuid": "aa02b7994753b7acca7cca04ee801ef64d8eda82"
      },
      "cell_type": "code",
      "source": "def f(**kwargs):\n    \"\"\" print key and value of dictionary\"\"\"\n    for key, value in kwargs.items():               \n        print(key, \" \", value)\nf(country = 'spain', capital = 'madrid', population = 1234560)\nf(country = 'turkey', capital = 'ankara', population = 1231233, altitude = 1100)",
      "execution_count": null,
      "outputs": []
    },
    {
      "metadata": {
        "_uuid": "e345810d1a770ef494fc073cb2ca07039a1d7951"
      },
      "cell_type": "markdown",
      "source": "**Example of list comprehension**"
    },
    {
      "metadata": {
        "trusted": true,
        "_uuid": "ba6ef2b9a591832acf8234184bf9331a032ad44f"
      },
      "cell_type": "code",
      "source": "num1 = [1,2,3]\nnum2 = [i + 1 for i in num1 ]\ndecision = [print(\"doing ok\") if(len(num2)==3) else print(\"something is wrong!\")]\nprint(num2)",
      "execution_count": null,
      "outputs": []
    }
  ],
  "metadata": {
    "kernelspec": {
      "display_name": "Python 3",
      "language": "python",
      "name": "python3"
    },
    "language_info": {
      "name": "python",
      "version": "3.6.6",
      "mimetype": "text/x-python",
      "codemirror_mode": {
        "name": "ipython",
        "version": 3
      },
      "pygments_lexer": "ipython3",
      "nbconvert_exporter": "python",
      "file_extension": ".py"
    }
  },
  "nbformat": 4,
  "nbformat_minor": 1
}